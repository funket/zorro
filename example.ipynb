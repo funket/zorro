{
 "cells": [
  {
   "cell_type": "code",
   "execution_count": 2,
   "metadata": {
    "collapsed": true
   },
   "outputs": [],
   "source": [
    "from explainer import *\n",
    "from models import *"
   ]
  },
  {
   "cell_type": "code",
   "execution_count": 5,
   "outputs": [
    {
     "name": "stdout",
     "output_type": "stream",
     "text": [
      "Accuracy: 0.3800\n",
      "Accuracy: 0.7240\n",
      "Accuracy: 0.7540\n",
      "Accuracy: 0.7450\n",
      "Accuracy: 0.7610\n",
      "Accuracy: 0.7640\n",
      "Accuracy: 0.7720\n",
      "Accuracy: 0.7720\n"
     ]
    },
    {
     "data": {
      "text/plain": "[]"
     },
     "execution_count": 5,
     "metadata": {},
     "output_type": "execute_result"
    }
   ],
   "source": [
    "device = torch.device('cuda' if torch.cuda.is_available() else 'cpu')\n",
    "dataset, data, results_path = load_dataset(\"Cora\")\n",
    "model = GCNNet(dataset)\n",
    "model.to(device)\n",
    "data = data.to(device)"
   ],
   "metadata": {
    "collapsed": false,
    "pycharm": {
     "name": "#%%\n"
    }
   }
  },
  {
   "cell_type": "code",
   "execution_count": null,
   "outputs": [],
   "source": [
    "train_model(model, data)"
   ],
   "metadata": {
    "collapsed": false,
    "pycharm": {
     "name": "#%%\n"
    }
   }
  },
  {
   "cell_type": "code",
   "execution_count": 6,
   "outputs": [],
   "source": [
    "explainer = Zorro(model, device)"
   ],
   "metadata": {
    "collapsed": false,
    "pycharm": {
     "name": "#%%\n"
    }
   }
  },
  {
   "cell_type": "code",
   "execution_count": 7,
   "outputs": [],
   "source": [
    "# Same as the Zorro \\tau=0.98 in the paper\n",
    "tau = .03\n",
    "# Explain node 10\n",
    "node = 10\n",
    "# only retrieve 1 explanation\n",
    "recursion_depth = 1"
   ],
   "metadata": {
    "collapsed": false,
    "pycharm": {
     "name": "#%%\n"
    }
   }
  },
  {
   "cell_type": "code",
   "execution_count": 8,
   "outputs": [
    {
     "name": "stderr",
     "output_type": "stream",
     "text": [
      "\n",
      "  0%|          | 0/10031 [00:00<?, ?it/s]\u001B[A\n",
      "Argmax 0, 0.8200000000000001: 100%|██████████| 7/7 [00:01<00:00,  6.95it/s]\n",
      "Argmax 926, 0.13: 100%|██████████| 1433/1433 [04:00<00:00,  5.96it/s]            \n",
      "\n",
      "Argmax 19, 0.020000000000000018:  10%|█         | 1/10 [00:00<00:01,  7.32it/s]"
     ]
    },
    {
     "name": "stdout",
     "output_type": "stream",
     "text": [
      "0.18\n"
     ]
    },
    {
     "name": "stderr",
     "output_type": "stream",
     "text": [
      "Argmax 926, 0.13: 100%|██████████| 10/10 [00:01<00:00,  7.15it/s]              \n",
      "\n",
      "Argmax 1, 0.0:  17%|█▋        | 1/6 [00:00<00:00,  7.34it/s]170.01s/it]\u001B[A"
     ]
    },
    {
     "name": "stdout",
     "output_type": "stream",
     "text": [
      "0.31\n"
     ]
    },
    {
     "name": "stderr",
     "output_type": "stream",
     "text": [
      "Argmax 1, 0.0: 100%|██████████| 6/6 [00:00<00:00,  7.43it/s]\n",
      "Argmax 643, 0.15000000000000002: 100%|██████████| 10/10 [00:01<00:00,  6.87it/s]\n",
      "\n",
      "Argmax 1, 0.0:  17%|█▋        | 1/6 [00:00<00:00,  7.52it/s]119.73s/it]\u001B[A"
     ]
    },
    {
     "name": "stdout",
     "output_type": "stream",
     "text": [
      "0.46\n"
     ]
    },
    {
     "name": "stderr",
     "output_type": "stream",
     "text": [
      "Argmax 1, 0.0: 100%|██████████| 6/6 [00:00<00:00,  7.28it/s]\n",
      "Argmax 1263, 0.09000000000000002: 100%|██████████| 10/10 [00:01<00:00,  7.25it/s]\n",
      "\n",
      "Argmax 1, -0.010000000000000009:  17%|█▋        | 1/6 [00:00<00:00,  7.57it/s]"
     ]
    },
    {
     "name": "stdout",
     "output_type": "stream",
     "text": [
      "0.55\n"
     ]
    },
    {
     "name": "stderr",
     "output_type": "stream",
     "text": [
      "Argmax 6, 0.04999999999999993: 100%|██████████| 6/6 [00:00<00:00,  7.43it/s]  \n",
      "Argmax 939, 0.07999999999999996: 100%|██████████| 10/10 [00:01<00:00,  7.22it/s]\n",
      "\n",
      "Argmax 1, 0.010000000000000009:  17%|█▋        | 1/6 [00:00<00:00,  7.55it/s]"
     ]
    },
    {
     "name": "stdout",
     "output_type": "stream",
     "text": [
      "0.63\n"
     ]
    },
    {
     "name": "stderr",
     "output_type": "stream",
     "text": [
      "Argmax 6, 0.030000000000000027: 100%|██████████| 6/6 [00:00<00:00,  6.82it/s]\n",
      "Argmax 237, 0.12: 100%|██████████| 10/10 [00:01<00:00,  7.08it/s]              \n",
      "\n",
      "Argmax 1, 0.010000000000000009:  17%|█▋        | 1/6 [00:00<00:00,  7.47it/s]"
     ]
    },
    {
     "name": "stdout",
     "output_type": "stream",
     "text": [
      "0.75\n"
     ]
    },
    {
     "name": "stderr",
     "output_type": "stream",
     "text": [
      "Argmax 1, 0.010000000000000009: 100%|██████████| 6/6 [00:00<00:00,  7.31it/s]\n",
      "Argmax 701, 0.020000000000000018: 100%|██████████| 10/10 [00:01<00:00,  6.16it/s]\n",
      "\n",
      "Argmax 1, 0.020000000000000018:  17%|█▋        | 1/6 [00:00<00:00,  6.23it/s]"
     ]
    },
    {
     "name": "stdout",
     "output_type": "stream",
     "text": [
      "0.77\n"
     ]
    },
    {
     "name": "stderr",
     "output_type": "stream",
     "text": [
      "Argmax 6, 0.04999999999999993: 100%|██████████| 6/6 [00:00<00:00,  6.80it/s] \n",
      "Argmax 1355, 0.05999999999999994: 100%|██████████| 10/10 [00:01<00:00,  7.24it/s]\n",
      "\n",
      "Argmax 1, 0.010000000000000009:  17%|█▋        | 1/6 [00:00<00:00,  7.50it/s]"
     ]
    },
    {
     "name": "stdout",
     "output_type": "stream",
     "text": [
      "0.83\n"
     ]
    },
    {
     "name": "stderr",
     "output_type": "stream",
     "text": [
      "Argmax 6, 0.030000000000000027: 100%|██████████| 6/6 [00:00<00:00,  7.36it/s]\n",
      "Argmax 19, 0.030000000000000027: 100%|██████████| 10/10 [00:01<00:00,  7.24it/s]\n",
      "\n",
      "Argmax 1, 0.010000000000000009:  17%|█▋        | 1/6 [00:00<00:00,  7.31it/s]"
     ]
    },
    {
     "name": "stdout",
     "output_type": "stream",
     "text": [
      "0.86\n"
     ]
    },
    {
     "name": "stderr",
     "output_type": "stream",
     "text": [
      "Argmax 6, 0.030000000000000027: 100%|██████████| 6/6 [00:00<00:00,  7.46it/s]\n",
      "Argmax 1301, 0.030000000000000027: 100%|██████████| 10/10 [00:01<00:00,  7.01it/s]\n",
      "\n",
      "Argmax 1, 0.020000000000000018:  17%|█▋        | 1/6 [00:00<00:00,  7.53it/s]"
     ]
    },
    {
     "name": "stdout",
     "output_type": "stream",
     "text": [
      "0.89\n"
     ]
    },
    {
     "name": "stderr",
     "output_type": "stream",
     "text": [
      "Argmax 6, 0.05999999999999994: 100%|██████████| 6/6 [00:00<00:00,  7.56it/s] \n",
      "Argmax 179, 0.030000000000000027: 100%|██████████| 10/10 [00:01<00:00,  7.13it/s]\n",
      "\n",
      "Argmax 1, 0.0:  20%|██        | 1/5 [00:00<00:00,  7.35it/s] 9.15s/it]\u001B[A"
     ]
    },
    {
     "name": "stdout",
     "output_type": "stream",
     "text": [
      "0.95\n"
     ]
    },
    {
     "name": "stderr",
     "output_type": "stream",
     "text": [
      "Argmax 3, 0.010000000000000009: 100%|██████████| 5/5 [00:00<00:00,  7.47it/s]\n",
      "Argmax 1257, 0.030000000000000027: 100%|██████████| 10/10 [00:01<00:00,  5.86it/s]\n",
      "\n",
      "Explain node 10:   0%|          | 12/10031 [04:27<19:57:42,  7.17s/it]\u001B[A"
     ]
    },
    {
     "name": "stdout",
     "output_type": "stream",
     "text": [
      "0.98\n"
     ]
    },
    {
     "name": "stderr",
     "output_type": "stream",
     "text": [
      "Explain node 10:   0%|          | 12/10031 [04:28<62:12:32, 22.35s/it]\n"
     ]
    }
   ],
   "source": [
    "explanation = explainer.explain_node(node, data.x, data.edge_index,\n",
    "                                                 tau=tau,\n",
    "                                                 recursion_depth=recursion_depth,)"
   ],
   "metadata": {
    "collapsed": false,
    "pycharm": {
     "name": "#%%\n"
    }
   }
  }
 ],
 "metadata": {
  "kernelspec": {
   "display_name": "Python 3",
   "language": "python",
   "name": "python3"
  },
  "language_info": {
   "codemirror_mode": {
    "name": "ipython",
    "version": 2
   },
   "file_extension": ".py",
   "mimetype": "text/x-python",
   "name": "python",
   "nbconvert_exporter": "python",
   "pygments_lexer": "ipython2",
   "version": "2.7.6"
  }
 },
 "nbformat": 4,
 "nbformat_minor": 0
}