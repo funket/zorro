{
 "cells": [
  {
   "cell_type": "code",
   "execution_count": 1,
   "metadata": {
    "collapsed": true
   },
   "outputs": [],
   "source": [
    "from explainer import *\n",
    "from models import *"
   ]
  },
  {
   "cell_type": "code",
   "execution_count": 2,
   "outputs": [],
   "source": [
    "device = torch.device('cuda' if torch.cuda.is_available() else 'cpu')\n",
    "dataset, data, results_path = load_dataset(\"Cora\")\n",
    "model = GCNNet(dataset)\n",
    "model.to(device)\n",
    "data = data.to(device)"
   ],
   "metadata": {
    "collapsed": false,
    "pycharm": {
     "name": "#%%\n"
    }
   }
  },
  {
   "cell_type": "code",
   "execution_count": 3,
   "outputs": [
    {
     "name": "stdout",
     "output_type": "stream",
     "text": [
      "Accuracy: 0.3210\n",
      "Accuracy: 0.7250\n",
      "Accuracy: 0.7450\n",
      "Accuracy: 0.7490\n",
      "Accuracy: 0.7490\n",
      "Accuracy: 0.7640\n",
      "Accuracy: 0.7660\n",
      "Accuracy: 0.7590\n"
     ]
    },
    {
     "data": {
      "text/plain": "[]"
     },
     "execution_count": 3,
     "metadata": {},
     "output_type": "execute_result"
    }
   ],
   "source": [
    "train_model(model, data)"
   ],
   "metadata": {
    "collapsed": false,
    "pycharm": {
     "name": "#%%\n"
    }
   }
  },
  {
   "cell_type": "code",
   "execution_count": 4,
   "outputs": [],
   "source": [
    "explainer = Zorro(model, device)"
   ],
   "metadata": {
    "collapsed": false,
    "pycharm": {
     "name": "#%%\n"
    }
   }
  },
  {
   "cell_type": "code",
   "execution_count": 5,
   "outputs": [],
   "source": [
    "# Same as the Zorro \\tau=0.98 in the paper\n",
    "tau = .03\n",
    "# Explain node 10\n",
    "node = 10\n",
    "# only retrieve 1 explanation\n",
    "recursion_depth = 1"
   ],
   "metadata": {
    "collapsed": false,
    "pycharm": {
     "name": "#%%\n"
    }
   }
  },
  {
   "cell_type": "code",
   "execution_count": 6,
   "outputs": [
    {
     "name": "stderr",
     "output_type": "stream",
     "text": [
      "\n",
      "  0%|          | 0/10031 [00:00<?, ?it/s]\u001B[A\n",
      "Argmax 0, 0.88: 100%|██████████| 7/7 [00:01<00:00,  6.13it/s]\n",
      "Argmax 926, 0.09: 100%|██████████| 1433/1433 [03:35<00:00,  6.64it/s]              \n",
      "\n",
      "Argmax 19, 0.030000000000000002:  10%|█         | 1/10 [00:00<00:01,  8.22it/s]"
     ]
    },
    {
     "name": "stdout",
     "output_type": "stream",
     "text": [
      "0.02\n"
     ]
    },
    {
     "name": "stderr",
     "output_type": "stream",
     "text": [
      "Argmax 926, 0.09: 100%|██████████| 10/10 [00:01<00:00,  7.83it/s]              \n",
      "\n",
      "Argmax 1, 0.0:  17%|█▋        | 1/6 [00:00<00:00,  7.88it/s]152.89s/it]\u001B[A"
     ]
    },
    {
     "name": "stdout",
     "output_type": "stream",
     "text": [
      "0.11\n"
     ]
    },
    {
     "name": "stderr",
     "output_type": "stream",
     "text": [
      "Argmax 1, 0.0: 100%|██████████| 6/6 [00:00<00:00,  8.12it/s]\n",
      "Argmax 1355, 0.06999999999999999: 100%|██████████| 10/10 [00:01<00:00,  7.60it/s]\n",
      "\n",
      "Argmax 1, 0.0:  17%|█▋        | 1/6 [00:00<00:00,  7.64it/s]107.68s/it]\u001B[A"
     ]
    },
    {
     "name": "stdout",
     "output_type": "stream",
     "text": [
      "0.18\n"
     ]
    },
    {
     "name": "stderr",
     "output_type": "stream",
     "text": [
      "Argmax 1, 0.0: 100%|██████████| 6/6 [00:00<00:00,  7.83it/s]\n",
      "Argmax 1301, 0.04000000000000001: 100%|██████████| 10/10 [00:01<00:00,  7.89it/s]\n",
      "\n",
      "Argmax 1, 0.010000000000000009:  17%|█▋        | 1/6 [00:00<00:00,  7.96it/s]"
     ]
    },
    {
     "name": "stdout",
     "output_type": "stream",
     "text": [
      "0.22\n"
     ]
    },
    {
     "name": "stderr",
     "output_type": "stream",
     "text": [
      "Argmax 6, 0.060000000000000026: 100%|██████████| 6/6 [00:00<00:00,  8.07it/s]\n",
      "Argmax 939, 0.1: 100%|██████████| 10/10 [00:01<00:00,  7.93it/s]\n",
      "\n",
      "Argmax 1, 0.010000000000000009:  17%|█▋        | 1/6 [00:00<00:00,  8.41it/s]"
     ]
    },
    {
     "name": "stdout",
     "output_type": "stream",
     "text": [
      "0.32\n"
     ]
    },
    {
     "name": "stderr",
     "output_type": "stream",
     "text": [
      "Argmax 6, 0.04999999999999999: 100%|██████████| 6/6 [00:00<00:00,  8.00it/s] \n",
      "Argmax 643, 0.09999999999999998: 100%|██████████| 10/10 [00:01<00:00,  7.88it/s]\n",
      "\n",
      "Argmax 1, 0.0:  17%|█▋        | 1/6 [00:00<00:00,  7.90it/s]38.34s/it]\u001B[A"
     ]
    },
    {
     "name": "stdout",
     "output_type": "stream",
     "text": [
      "0.42\n"
     ]
    },
    {
     "name": "stderr",
     "output_type": "stream",
     "text": [
      "Argmax 6, 0.06: 100%|██████████| 6/6 [00:00<00:00,  8.12it/s]                \n",
      "Argmax 237, 0.08000000000000002: 100%|██████████| 10/10 [00:01<00:00,  7.93it/s]\n",
      "\n",
      "Argmax 1, 0.010000000000000009:  17%|█▋        | 1/6 [00:00<00:00,  8.36it/s]"
     ]
    },
    {
     "name": "stdout",
     "output_type": "stream",
     "text": [
      "0.5\n"
     ]
    },
    {
     "name": "stderr",
     "output_type": "stream",
     "text": [
      "Argmax 6, 0.030000000000000027: 100%|██████████| 6/6 [00:00<00:00,  8.19it/s]\n",
      "Argmax 19, 0.06000000000000005: 100%|██████████| 10/10 [00:01<00:00,  7.83it/s]\n",
      "\n",
      "Argmax 1, 0.009999999999999898:  17%|█▋        | 1/6 [00:00<00:00,  8.00it/s]"
     ]
    },
    {
     "name": "stdout",
     "output_type": "stream",
     "text": [
      "0.56\n"
     ]
    },
    {
     "name": "stderr",
     "output_type": "stream",
     "text": [
      "Argmax 6, 0.08999999999999997: 100%|██████████| 6/6 [00:00<00:00,  8.20it/s] \n",
      "Argmax 1263, 0.05999999999999994: 100%|██████████| 10/10 [00:01<00:00,  7.92it/s]\n",
      "\n",
      "Argmax 1, 0.010000000000000009:  20%|██        | 1/5 [00:00<00:00,  8.34it/s]"
     ]
    },
    {
     "name": "stdout",
     "output_type": "stream",
     "text": [
      "0.65\n"
     ]
    },
    {
     "name": "stderr",
     "output_type": "stream",
     "text": [
      "Argmax 2, 0.030000000000000027: 100%|██████████| 5/5 [00:00<00:00,  8.21it/s]\n",
      "Argmax 1022, 0.13: 100%|██████████| 10/10 [00:01<00:00,  7.83it/s]             \n",
      "\n",
      "Argmax 1, 0.0:  20%|██        | 1/5 [00:00<00:00,  8.36it/s]10.80s/it]\u001B[A"
     ]
    },
    {
     "name": "stdout",
     "output_type": "stream",
     "text": [
      "0.78\n"
     ]
    },
    {
     "name": "stderr",
     "output_type": "stream",
     "text": [
      "Argmax 2, 0.020000000000000018: 100%|██████████| 5/5 [00:00<00:00,  8.16it/s]\n",
      "Argmax 284, 0.12: 100%|██████████| 10/10 [00:01<00:00,  7.80it/s]\n",
      "\n",
      "Argmax 1, 0.0:  20%|██        | 1/5 [00:00<00:00,  8.35it/s] 8.17s/it]\u001B[A"
     ]
    },
    {
     "name": "stdout",
     "output_type": "stream",
     "text": [
      "0.9\n"
     ]
    },
    {
     "name": "stderr",
     "output_type": "stream",
     "text": [
      "Argmax 2, 0.030000000000000027: 100%|██████████| 5/5 [00:00<00:00,  8.16it/s]\n",
      "Argmax 1257, 0.04999999999999993: 100%|██████████| 10/10 [00:01<00:00,  7.88it/s]\n",
      "\n",
      "Argmax 1, 0.0:  20%|██        | 1/5 [00:00<00:00,  8.42it/s] 6.32s/it]\u001B[A"
     ]
    },
    {
     "name": "stdout",
     "output_type": "stream",
     "text": [
      "0.95\n"
     ]
    },
    {
     "name": "stderr",
     "output_type": "stream",
     "text": [
      "Argmax 4, 0.010000000000000009: 100%|██████████| 5/5 [00:00<00:00,  8.19it/s]\n",
      "Argmax 1259, 0.020000000000000018: 100%|██████████| 10/10 [00:01<00:00,  7.24it/s]\n",
      "\n",
      "Argmax 1, 0.010000000000000009:  20%|██        | 1/5 [00:00<00:00,  8.43it/s]"
     ]
    },
    {
     "name": "stdout",
     "output_type": "stream",
     "text": [
      "0.97\n"
     ]
    },
    {
     "name": "stderr",
     "output_type": "stream",
     "text": [
      "Argmax 1, 0.010000000000000009: 100%|██████████| 5/5 [00:00<00:00,  8.26it/s]\n",
      "Argmax 339, 0.010000000000000009: 100%|██████████| 10/10 [00:01<00:00,  7.78it/s]\n",
      "\n",
      "Explain node 10:   0%|          | 14/10031 [04:04<11:33:18,  4.15s/it]\u001B[A"
     ]
    },
    {
     "name": "stdout",
     "output_type": "stream",
     "text": [
      "0.98\n"
     ]
    },
    {
     "name": "stderr",
     "output_type": "stream",
     "text": [
      "Explain node 10:   0%|          | 14/10031 [04:04<48:38:31, 17.48s/it]\n"
     ]
    }
   ],
   "source": [
    "explanation = explainer.explain_node(node, data.x, data.edge_index,\n",
    "                                                 tau=tau,\n",
    "                                                 recursion_depth=recursion_depth,)"
   ],
   "metadata": {
    "collapsed": false,
    "pycharm": {
     "name": "#%%\n"
    }
   }
  },
  {
   "cell_type": "code",
   "execution_count": 7,
   "outputs": [],
   "source": [
    "selected_nodes, selected_features, executed_selections = explanation[0]"
   ],
   "metadata": {
    "collapsed": false,
    "pycharm": {
     "name": "#%%\n"
    }
   }
  },
  {
   "cell_type": "code",
   "execution_count": 8,
   "outputs": [
    {
     "name": "stdout",
     "output_type": "stream",
     "text": [
      "[[1. 0. 0. 0. 0. 0. 1.]]\n"
     ]
    }
   ],
   "source": [
    "# a binary array with 1's for the selected nodes (of the computational graph)\n",
    "print(selected_nodes)"
   ],
   "metadata": {
    "collapsed": false,
    "pycharm": {
     "name": "#%%\n"
    }
   }
  },
  {
   "cell_type": "code",
   "execution_count": 11,
   "outputs": [
    {
     "name": "stdout",
     "output_type": "stream",
     "text": [
      "12.0\n"
     ]
    }
   ],
   "source": [
    "# a binary array with 1's for the selected features\n",
    "print(selected_features.sum())"
   ],
   "metadata": {
    "collapsed": false,
    "pycharm": {
     "name": "#%%\n"
    }
   }
  },
  {
   "cell_type": "code",
   "execution_count": 12,
   "outputs": [
    {
     "name": "stdout",
     "output_type": "stream",
     "text": [
      "[[nan, nan, 0.02], [0, nan, 0.02], [nan, 926, 0.11], [nan, 1355, 0.18], [nan, 1301, 0.22], [nan, 939, 0.32], [nan, 643, 0.42], [nan, 237, 0.5], [nan, 19, 0.56], [6, nan, 0.65], [nan, 1022, 0.78], [nan, 284, 0.9], [nan, 1257, 0.95], [nan, 1259, 0.97], [nan, 339, 0.98]]\n"
     ]
    }
   ],
   "source": [
    "# The list of steps executed to derive the above explanation\n",
    "# The schema is: selected node/nan, selected feature/nan, achieved fidelity at that step\n",
    "# Since in each step either a node or a feature is added only one is not nan\n",
    "# The first entry is an additional entry for the all zero explanation and the respective fidelity\n",
    "print(executed_selections)\n"
   ],
   "metadata": {
    "collapsed": false,
    "pycharm": {
     "name": "#%%\n"
    }
   }
  }
 ],
 "metadata": {
  "kernelspec": {
   "display_name": "Python 3",
   "language": "python",
   "name": "python3"
  },
  "language_info": {
   "codemirror_mode": {
    "name": "ipython",
    "version": 2
   },
   "file_extension": ".py",
   "mimetype": "text/x-python",
   "name": "python",
   "nbconvert_exporter": "python",
   "pygments_lexer": "ipython2",
   "version": "2.7.6"
  }
 },
 "nbformat": 4,
 "nbformat_minor": 0
}